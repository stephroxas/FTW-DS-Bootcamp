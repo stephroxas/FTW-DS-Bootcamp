{
  "nbformat": 4,
  "nbformat_minor": 0,
  "metadata": {
    "colab": {
      "name": "Word Count.ipynb",
      "provenance": []
    },
    "kernelspec": {
      "name": "python3",
      "display_name": "Python 3"
    }
  },
  "cells": [
    {
      "cell_type": "code",
      "metadata": {
        "id": "Kq2Lmp9efQRq",
        "colab_type": "code",
        "colab": {}
      },
      "source": [
        "def counter(song):\n",
        "  list = song.split(\" \")\n",
        "  dict = {}\n",
        "\n",
        "  for i in list:\n",
        "    if i in dict:\n",
        "      dict[i] = dict[i] + 1\n",
        "    else:\n",
        "      dict[i] = 1\n",
        "\n",
        "  return dict"
      ],
      "execution_count": 0,
      "outputs": []
    },
    {
      "cell_type": "code",
      "metadata": {
        "id": "4JR-QOL4hdoq",
        "colab_type": "code",
        "colab": {
          "base_uri": "https://localhost:8080/",
          "height": 51
        },
        "outputId": "300c6ed1-b7b8-4ce8-c27b-0e18cc8d798f"
      },
      "source": [
        "song = \"hey hey yo yo awesome\"\n",
        "print(counter(song))\n",
        "song2 = \"rock rock rock roll roll rick\"\n",
        "print(counter(song2));"
      ],
      "execution_count": 3,
      "outputs": [
        {
          "output_type": "stream",
          "text": [
            "{'hey': 2, 'yo': 2, 'awesome': 1}\n",
            "{'rock': 3, 'roll': 2, 'rick': 1}\n"
          ],
          "name": "stdout"
        }
      ]
    },
    {
      "cell_type": "code",
      "metadata": {
        "id": "-keY9LgshiT1",
        "colab_type": "code",
        "colab": {}
      },
      "source": [
        ""
      ],
      "execution_count": 0,
      "outputs": []
    }
  ]
}
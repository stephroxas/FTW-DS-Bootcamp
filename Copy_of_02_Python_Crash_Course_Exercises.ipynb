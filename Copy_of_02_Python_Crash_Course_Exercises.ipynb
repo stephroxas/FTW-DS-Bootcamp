{
  "nbformat": 4,
  "nbformat_minor": 0,
  "metadata": {
    "kernelspec": {
      "display_name": "Python 3",
      "language": "python",
      "name": "python3"
    },
    "language_info": {
      "codemirror_mode": {
        "name": "ipython",
        "version": 3
      },
      "file_extension": ".py",
      "mimetype": "text/x-python",
      "name": "python",
      "nbconvert_exporter": "python",
      "pygments_lexer": "ipython3",
      "version": "3.6.2"
    },
    "colab": {
      "name": "Copy of 02-Python Crash Course Exercises.ipynb",
      "provenance": [],
      "collapsed_sections": []
    }
  },
  "cells": [
    {
      "cell_type": "markdown",
      "metadata": {
        "id": "HK84bSdYPMAR",
        "colab_type": "text"
      },
      "source": [
        "___\n",
        "\n",
        "<a href='http://www.pieriandata.com'> <img src='../Pierian_Data_Logo.png' /></a>\n",
        "___\n",
        "# Python Crash Course Exercises \n",
        "\n",
        "This is an optional exercise to test your understanding of Python Basics. If you find this extremely challenging, then you probably are not ready for the rest of this course yet and don't have enough programming experience to continue. I would suggest you take another course more geared towards complete beginners, such as [Complete Python Bootcamp](https://www.udemy.com/complete-python-bootcamp/?couponCode=PY20)"
      ]
    },
    {
      "cell_type": "markdown",
      "metadata": {
        "id": "KcUdIyp9PMAV",
        "colab_type": "text"
      },
      "source": [
        "## Exercises\n",
        "\n",
        "Answer the questions or complete the tasks outlined in bold below, use the specific method described if applicable."
      ]
    },
    {
      "cell_type": "markdown",
      "metadata": {
        "id": "k4yiZD6GPMAX",
        "colab_type": "text"
      },
      "source": [
        "** What is 7 to the power of 4?**"
      ]
    },
    {
      "cell_type": "code",
      "metadata": {
        "id": "9cbwS0CwPMAY",
        "colab_type": "code",
        "outputId": "d005648c-6536-49b9-bb40-dfc89661b97b",
        "colab": {
          "base_uri": "https://localhost:8080/",
          "height": 34
        }
      },
      "source": [
        "7**4"
      ],
      "execution_count": 1,
      "outputs": [
        {
          "output_type": "execute_result",
          "data": {
            "text/plain": [
              "2401"
            ]
          },
          "metadata": {
            "tags": []
          },
          "execution_count": 1
        }
      ]
    },
    {
      "cell_type": "markdown",
      "metadata": {
        "id": "QlSQdyaCPMAe",
        "colab_type": "text"
      },
      "source": [
        "** Split this string:**\n",
        "\n",
        "    s = \"Hi there Sam!\"\n",
        "    \n",
        "**into a list. **"
      ]
    },
    {
      "cell_type": "code",
      "metadata": {
        "id": "6jqghFe-PMAf",
        "colab_type": "code",
        "colab": {}
      },
      "source": [
        "s = \"Hi there dad!\""
      ],
      "execution_count": 0,
      "outputs": []
    },
    {
      "cell_type": "code",
      "metadata": {
        "id": "mU3oyF3bPMAk",
        "colab_type": "code",
        "outputId": "813998c0-3aa3-4164-d81a-965d949aad85",
        "colab": {
          "base_uri": "https://localhost:8080/",
          "height": 34
        }
      },
      "source": [
        "print(s.split(\" \"))"
      ],
      "execution_count": 5,
      "outputs": [
        {
          "output_type": "stream",
          "text": [
            "['Hi', 'there', 'dad!']\n"
          ],
          "name": "stdout"
        }
      ]
    },
    {
      "cell_type": "markdown",
      "metadata": {
        "id": "pPLx3kt-PMAp",
        "colab_type": "text"
      },
      "source": [
        "** Given the variables:**\n",
        "\n",
        "    planet = \"Earth\"\n",
        "    diameter = 12742\n",
        "\n",
        "** Use .format() to print the following string: **\n",
        "\n",
        "    The diameter of Earth is 12742 kilometers."
      ]
    },
    {
      "cell_type": "code",
      "metadata": {
        "id": "K_T1RsoPPMAr",
        "colab_type": "code",
        "colab": {}
      },
      "source": [
        "planet = \"Earth\"\n",
        "diameter = 12742"
      ],
      "execution_count": 0,
      "outputs": []
    },
    {
      "cell_type": "code",
      "metadata": {
        "id": "hcUHMXGrPMAu",
        "colab_type": "code",
        "outputId": "06fe36d4-8bc2-4717-cc69-89c8b5bd1278",
        "colab": {
          "base_uri": "https://localhost:8080/",
          "height": 34
        }
      },
      "source": [
        "print(\"The diameter of {} is {} kilometers\".format(planet, diameter))"
      ],
      "execution_count": 9,
      "outputs": [
        {
          "output_type": "stream",
          "text": [
            "The diameter of Earth is 12742 kilometers\n"
          ],
          "name": "stdout"
        }
      ]
    },
    {
      "cell_type": "markdown",
      "metadata": {
        "id": "LDnvVn6UPMAy",
        "colab_type": "text"
      },
      "source": [
        "** Given this nested list, use indexing to grab the word \"hello\" **"
      ]
    },
    {
      "cell_type": "code",
      "metadata": {
        "id": "z-ULE_jsPMAz",
        "colab_type": "code",
        "colab": {}
      },
      "source": [
        "lst = [1,2,[3,4],[5,[100,200,['hello']],23,11],1,7]"
      ],
      "execution_count": 0,
      "outputs": []
    },
    {
      "cell_type": "code",
      "metadata": {
        "id": "kH1_0Xw7PMA2",
        "colab_type": "code",
        "outputId": "ac967aed-520f-450f-fb47-227af88fde38",
        "colab": {
          "base_uri": "https://localhost:8080/",
          "height": 34
        }
      },
      "source": [
        "print(lst[3][1][2])"
      ],
      "execution_count": 15,
      "outputs": [
        {
          "output_type": "stream",
          "text": [
            "['hello']\n"
          ],
          "name": "stdout"
        }
      ]
    },
    {
      "cell_type": "markdown",
      "metadata": {
        "id": "8fefTzTTPMA5",
        "colab_type": "text"
      },
      "source": [
        "** Given this nested dictionary grab the word \"hello\". Be prepared, this will be annoying/tricky **"
      ]
    },
    {
      "cell_type": "code",
      "metadata": {
        "id": "W2OS2hLjPMA6",
        "colab_type": "code",
        "colab": {}
      },
      "source": [
        "d = {'k1':[1,2,3,{'tricky':['oh','man','inception',{'target':[1,2,3,'hello']}]}]}"
      ],
      "execution_count": 0,
      "outputs": []
    },
    {
      "cell_type": "code",
      "metadata": {
        "id": "jFMhl8vRPMA9",
        "colab_type": "code",
        "outputId": "abac1da5-f544-4fc1-912b-9b2a5562eaca",
        "colab": {
          "base_uri": "https://localhost:8080/",
          "height": 34
        }
      },
      "source": [
        "print(d['k1'][3]['tricky'][3]['target'][3])"
      ],
      "execution_count": 24,
      "outputs": [
        {
          "output_type": "stream",
          "text": [
            "hello\n"
          ],
          "name": "stdout"
        }
      ]
    },
    {
      "cell_type": "markdown",
      "metadata": {
        "id": "kFTPcfogPMBA",
        "colab_type": "text"
      },
      "source": [
        "** What is the main difference between a tuple and a list? **"
      ]
    },
    {
      "cell_type": "code",
      "metadata": {
        "id": "MgoktBYrPMBB",
        "colab_type": "code",
        "colab": {}
      },
      "source": [
        "# Tuple is immutable"
      ],
      "execution_count": 0,
      "outputs": []
    },
    {
      "cell_type": "markdown",
      "metadata": {
        "id": "yyumw8FnPMBI",
        "colab_type": "text"
      },
      "source": [
        "** Create a function that grabs the email website domain from a string in the form: **\n",
        "\n",
        "    user@domain.com\n",
        "    \n",
        "**So for example, passing \"user@domain.com\" would return: domain.com**"
      ]
    },
    {
      "cell_type": "code",
      "metadata": {
        "id": "BmLYCkPQPMBJ",
        "colab_type": "code",
        "colab": {}
      },
      "source": [
        "def domainGet(email): return email.split(\"@\")[1]"
      ],
      "execution_count": 0,
      "outputs": []
    },
    {
      "cell_type": "code",
      "metadata": {
        "id": "9I9TUAXmPMBQ",
        "colab_type": "code",
        "outputId": "46672e0a-4f2f-4501-c2e2-34cbd3073b50",
        "colab": {
          "base_uri": "https://localhost:8080/",
          "height": 34
        }
      },
      "source": [
        "domainGet('user@domain.com')"
      ],
      "execution_count": 31,
      "outputs": [
        {
          "output_type": "execute_result",
          "data": {
            "text/plain": [
              "'domain.com'"
            ]
          },
          "metadata": {
            "tags": []
          },
          "execution_count": 31
        }
      ]
    },
    {
      "cell_type": "markdown",
      "metadata": {
        "id": "950hzgjPPMBT",
        "colab_type": "text"
      },
      "source": [
        "** Create a basic function that returns True if the word 'dog' is contained in the input string. Don't worry about edge cases like a punctuation being attached to the word dog, but do account for capitalization. **"
      ]
    },
    {
      "cell_type": "code",
      "metadata": {
        "id": "BDQsfjiWPMBU",
        "colab_type": "code",
        "colab": {}
      },
      "source": [
        "def findDog(string): return \"dog\" in string"
      ],
      "execution_count": 0,
      "outputs": []
    },
    {
      "cell_type": "code",
      "metadata": {
        "id": "IvcQmBL4PMBW",
        "colab_type": "code",
        "outputId": "ab2ff391-07d1-4807-d992-e7e1eeabd1c6",
        "colab": {
          "base_uri": "https://localhost:8080/",
          "height": 34
        }
      },
      "source": [
        "findDog('Is there a dog here?')"
      ],
      "execution_count": 33,
      "outputs": [
        {
          "output_type": "execute_result",
          "data": {
            "text/plain": [
              "True"
            ]
          },
          "metadata": {
            "tags": []
          },
          "execution_count": 33
        }
      ]
    },
    {
      "cell_type": "markdown",
      "metadata": {
        "id": "zbjfeonwPMBZ",
        "colab_type": "text"
      },
      "source": [
        "** Create a function that counts the number of times the word \"dog\" occurs in a string. Again ignore edge cases. **"
      ]
    },
    {
      "cell_type": "code",
      "metadata": {
        "id": "2d8-asbMPMBZ",
        "colab_type": "code",
        "colab": {}
      },
      "source": [
        "def countDog(string): return string.count(\"dog\")"
      ],
      "execution_count": 0,
      "outputs": []
    },
    {
      "cell_type": "code",
      "metadata": {
        "id": "_u4SaoyAPMBb",
        "colab_type": "code",
        "outputId": "7108bb69-8762-404f-bce1-7748913b162b",
        "colab": {
          "base_uri": "https://localhost:8080/",
          "height": 34
        }
      },
      "source": [
        "countDog('This dog runs faster than the other dog dude!')"
      ],
      "execution_count": 35,
      "outputs": [
        {
          "output_type": "execute_result",
          "data": {
            "text/plain": [
              "2"
            ]
          },
          "metadata": {
            "tags": []
          },
          "execution_count": 35
        }
      ]
    },
    {
      "cell_type": "markdown",
      "metadata": {
        "id": "t5eZCnM7PMBe",
        "colab_type": "text"
      },
      "source": [
        "** Use lambda expressions and the filter() function to filter out words from a list that don't start with the letter 's'. For example:**\n",
        "\n",
        "    seq = ['soup','dog','salad','cat','great']\n",
        "\n",
        "**should be filtered down to:**\n",
        "\n",
        "    ['soup','salad']"
      ]
    },
    {
      "cell_type": "code",
      "metadata": {
        "id": "uELWRtzOPMBf",
        "colab_type": "code",
        "colab": {}
      },
      "source": [
        "seq = ['soup','dog','salad','cat','great']"
      ],
      "execution_count": 0,
      "outputs": []
    },
    {
      "cell_type": "code",
      "metadata": {
        "id": "EXmjKyhHPMBj",
        "colab_type": "code",
        "outputId": "dea1c83f-1d9a-4779-84c5-404115821b90",
        "colab": {
          "base_uri": "https://localhost:8080/",
          "height": 34
        }
      },
      "source": [
        "list(filter(lambda word: word[:][0] == 's',seq))"
      ],
      "execution_count": 45,
      "outputs": [
        {
          "output_type": "execute_result",
          "data": {
            "text/plain": [
              "['soup', 'salad']"
            ]
          },
          "metadata": {
            "tags": []
          },
          "execution_count": 45
        }
      ]
    },
    {
      "cell_type": "markdown",
      "metadata": {
        "id": "N-Owg9bvPMBt",
        "colab_type": "text"
      },
      "source": [
        "### Final Problem\n",
        "**You are driving a little too fast, and a police officer stops you. Write a function\n",
        "  to return one of 3 possible results: \"No ticket\", \"Small ticket\", or \"Big Ticket\". \n",
        "  If your speed is 60 or less, the result is \"No Ticket\". If speed is between 61 \n",
        "  and 80 inclusive, the result is \"Small Ticket\". If speed is 81 or more, the result is \"Big    Ticket\". Unless it is your birthday (encoded as a boolean value in the parameters of the function) -- on your birthday, your speed can be 5 higher in all \n",
        "  cases. **"
      ]
    },
    {
      "cell_type": "code",
      "metadata": {
        "id": "JXoix84NPMBu",
        "colab_type": "code",
        "colab": {}
      },
      "source": [
        "def caught_speeding(speed, is_birthday):\n",
        "    x = 0\n",
        "    if is_birthday:\n",
        "      x = x + 5\n",
        "\n",
        "    if speed - x <= 60:\n",
        "      return \"No Ticket\"\n",
        "    elif 61 <= speed - x <= 80:\n",
        "      return \"Small Ticket\"\n",
        "    elif speed - x >= 81:\n",
        "      return \"Big Ticket\""
      ],
      "execution_count": 0,
      "outputs": []
    },
    {
      "cell_type": "code",
      "metadata": {
        "id": "-T2Mf-FzPMBx",
        "colab_type": "code",
        "outputId": "4747d135-6475-4adf-fdbb-5c784ea203d9",
        "colab": {
          "base_uri": "https://localhost:8080/",
          "height": 34
        }
      },
      "source": [
        "caught_speeding(81,True)"
      ],
      "execution_count": 49,
      "outputs": [
        {
          "output_type": "execute_result",
          "data": {
            "text/plain": [
              "'Small Ticket'"
            ]
          },
          "metadata": {
            "tags": []
          },
          "execution_count": 49
        }
      ]
    },
    {
      "cell_type": "code",
      "metadata": {
        "id": "PB-RQTLKPMB1",
        "colab_type": "code",
        "outputId": "accac572-f8c2-430c-b8c8-2bafc2e2e8a7",
        "colab": {
          "base_uri": "https://localhost:8080/",
          "height": 34
        }
      },
      "source": [
        "caught_speeding(81,False)"
      ],
      "execution_count": 50,
      "outputs": [
        {
          "output_type": "execute_result",
          "data": {
            "text/plain": [
              "'Big Ticket'"
            ]
          },
          "metadata": {
            "tags": []
          },
          "execution_count": 50
        }
      ]
    },
    {
      "cell_type": "markdown",
      "metadata": {
        "id": "dSXmPHscPMB5",
        "colab_type": "text"
      },
      "source": [
        "# Great job!"
      ]
    }
  ]
}